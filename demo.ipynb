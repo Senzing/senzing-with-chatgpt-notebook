{
 "cells": [
  {
   "cell_type": "code",
   "execution_count": 1,
   "id": "3652ebad",
   "metadata": {},
   "outputs": [],
   "source": [
    "import json"
   ]
  },
  {
   "cell_type": "code",
   "execution_count": 2,
   "id": "aae9658d",
   "metadata": {},
   "outputs": [],
   "source": [
    "import openai\n",
    "from   pprint import pprint\n",
    "import requests\n",
    "from   tenacity import retry, wait_random_exponential, stop_after_attempt\n",
    "from   termcolor import colored"
   ]
  },
  {
   "cell_type": "code",
   "execution_count": 3,
   "id": "66d56695",
   "metadata": {},
   "outputs": [],
   "source": [
    "from server.senzing_api import SenzingAPI"
   ]
  },
  {
   "cell_type": "code",
   "execution_count": null,
   "id": "045bb412",
   "metadata": {},
   "outputs": [],
   "source": []
  },
  {
   "cell_type": "markdown",
   "id": "89bef4e3",
   "metadata": {},
   "source": [
    "# Config"
   ]
  },
  {
   "cell_type": "code",
   "execution_count": 4,
   "id": "8066bbcc",
   "metadata": {},
   "outputs": [
    {
     "name": "stdout",
     "output_type": "stream",
     "text": [
      "OpenAI API Key: Found\n"
     ]
    }
   ],
   "source": [
    "if openai.api_key:\n",
    "    print('OpenAI API Key: Found')\n",
    "else:\n",
    "    print(colored('OpenAI API Key: Not Found', 'red'))"
   ]
  },
  {
   "cell_type": "code",
   "execution_count": 5,
   "id": "238b49ab",
   "metadata": {},
   "outputs": [],
   "source": [
    "CHAT_MODEL  = 'gpt-4-0613'\n",
    "TEMPERATURE = 0.7\n",
    "MAX_TOKENS  = 1024"
   ]
  },
  {
   "cell_type": "code",
   "execution_count": null,
   "id": "dcbf41a7",
   "metadata": {},
   "outputs": [],
   "source": []
  },
  {
   "cell_type": "markdown",
   "id": "d0ca2324",
   "metadata": {},
   "source": [
    "# Verify: GPT-4 API Access"
   ]
  },
  {
   "cell_type": "code",
   "execution_count": 6,
   "id": "2c68384a",
   "metadata": {},
   "outputs": [],
   "source": [
    "models = openai.Model.list()['data']\n",
    "model_names = set([model['id'] for model in models])\n",
    "assert CHAT_MODEL in model_names, 'GPT-4 API Access is Required!'"
   ]
  },
  {
   "cell_type": "code",
   "execution_count": null,
   "id": "8afad156",
   "metadata": {},
   "outputs": [],
   "source": []
  },
  {
   "cell_type": "markdown",
   "id": "7992667c",
   "metadata": {},
   "source": [
    "# Functions"
   ]
  },
  {
   "cell_type": "code",
   "execution_count": 7,
   "id": "921be303",
   "metadata": {},
   "outputs": [],
   "source": [
    "FUNCTIONS = [{\n",
    "    'name':        'entity_details',\n",
    "    'description': 'Retrieve entity data based on the ID of a resolved identity.',\n",
    "    'parameters':  {\n",
    "        'type': 'object',\n",
    "        'properties': {\n",
    "            'entity_id': {'type': 'integer'},\n",
    "        },\n",
    "        'required': ['entity_id'],\n",
    "    },\n",
    "},{\n",
    "    'name':        'entity_how',\n",
    "    'description': 'Determines and details steps-by-step how records resolved to an ENTITY_ID.',\n",
    "    'parameters':  {\n",
    "        'type': 'object',\n",
    "        'properties': {\n",
    "            'entity_id': {'type': 'integer'},\n",
    "        },\n",
    "        'required': ['entity_id'],\n",
    "    },\n",
    "},{\n",
    "    'name':        'entity_report',\n",
    "    'description': 'Return 10 entities with either matches, possible matches, or relationships.',\n",
    "    'parameters':  {\n",
    "        'type': 'object',\n",
    "        'properties': {\n",
    "            'export_flags': {'type': 'string', 'enum': [\"MATCHED\", \"POSSIBLE_MATCHES\", \"POSSIBLE_RELATIONSHIPS\"]},\n",
    "        },\n",
    "        'required': ['export_flags'],\n",
    "    },\n",
    "},{\n",
    "    'name':        'entity_search',\n",
    "    'description': 'Retrieves entity data based on a user-specified set of entity attributes.',\n",
    "    'parameters':  {\n",
    "        'type': 'object',\n",
    "        'properties': {\n",
    "            'attrs': {\n",
    "                'type': 'object',\n",
    "                'properties': {\n",
    "                    'ADDR_CITY': {'type': 'string'},\n",
    "                    'ADDR_COUNTRY': {'type': 'string'},\n",
    "                    'ADDR_FULL': {'type': 'string'},\n",
    "                    'ADDR_LINE1': {'type': 'string'},\n",
    "                    'ADDR_POSTAL_CODE': {'type': 'string'},\n",
    "                    'ADDR_STATE': {'type': 'string'},\n",
    "                    'DATE_OF_BIRTH': {'type': 'string'},\n",
    "                    'DRIVERS_LICENSE_NUMBER': {'type': 'string'},\n",
    "                    'EMAIL_ADDRESS': {'type': 'string'},\n",
    "                    'NAME_FIRST': {'type': 'string'},\n",
    "                    'NAME_FULL': {'type': 'string'},\n",
    "                    'NAME_LAST': {'type': 'string'},\n",
    "                    'NAME_MIDDLE': {'type': 'string'},\n",
    "                    'NAME_ORG': {'type': 'string'},\n",
    "                    'NAME_SUFFIX': {'type': 'string'},\n",
    "                    'NATIONAL_ID_NUMBER': {'type': 'string'},\n",
    "                    'PASSPORT_COUNTRY': {'type': 'string'},\n",
    "                    'PASSPORT_NUMBER': {'type': 'string'},\n",
    "                    'PHONE_NUMBER': {'type': 'string'},\n",
    "                    'SSN_NUMBER': {'type': 'string'},\n",
    "                },\n",
    "            },\n",
    "        },\n",
    "        'required': [],\n",
    "    },\n",
    "}]"
   ]
  },
  {
   "cell_type": "code",
   "execution_count": null,
   "id": "c9eca1bb",
   "metadata": {},
   "outputs": [],
   "source": []
  },
  {
   "cell_type": "markdown",
   "id": "930d3b06",
   "metadata": {},
   "source": [
    "# GPT Utils"
   ]
  },
  {
   "cell_type": "code",
   "execution_count": 8,
   "id": "a5fa5792",
   "metadata": {},
   "outputs": [],
   "source": [
    "@retry(wait=wait_random_exponential(min=1, max=40), stop=stop_after_attempt(3))\n",
    "def chat_completion_request(messages,\n",
    "                            functions = FUNCTIONS,\n",
    "                            function_call = None,\n",
    "                            model = CHAT_MODEL,\n",
    "                            temperature = TEMPERATURE,\n",
    "                            max_tokens  = MAX_TOKENS,\n",
    "                           ):\n",
    "    headers = {\n",
    "        \"Content-Type\": \"application/json\",\n",
    "        \"Authorization\": \"Bearer \" + openai.api_key,\n",
    "    }\n",
    "    json_data = {\n",
    "        \"model\": model,\n",
    "        \"messages\": messages,\n",
    "        \"temperature\": temperature,\n",
    "        \"max_tokens\": max_tokens,\n",
    "    }\n",
    "    if functions is not None:\n",
    "        json_data.update({\"functions\": functions})\n",
    "    if function_call is not None:\n",
    "        json_data.update({\"function_call\": function_call})\n",
    "    try:\n",
    "        response = requests.post(\n",
    "            \"https://api.openai.com/v1/chat/completions\",\n",
    "            headers=headers,\n",
    "            json=json_data,\n",
    "        )\n",
    "        return response\n",
    "    except Exception as e:\n",
    "        print(\"Unable to generate ChatCompletion response\")\n",
    "        print(f\"Exception: {e}\")\n",
    "        return e"
   ]
  },
  {
   "cell_type": "code",
   "execution_count": 9,
   "id": "8d5edada",
   "metadata": {},
   "outputs": [],
   "source": [
    "def pretty_print_conversation(messages):\n",
    "    role_to_color = {\n",
    "        \"system\": \"red\",\n",
    "        \"user\": \"green\",\n",
    "        \"assistant\": \"blue\",\n",
    "        \"function\": \"magenta\",\n",
    "    }\n",
    "    formatted_messages = []\n",
    "    for message in messages:\n",
    "        if message[\"role\"] == \"system\":\n",
    "            formatted_messages.append(f\"system: {message['content']}\\n\")\n",
    "        elif message[\"role\"] == \"user\":\n",
    "            formatted_messages.append(f\"user: {message['content']}\\n\")\n",
    "        elif message[\"role\"] == \"assistant\" and message.get(\"function_call\"):\n",
    "            formatted_messages.append(f\"assistant: {message['function_call']}\\n\")\n",
    "        elif message[\"role\"] == \"assistant\" and not message.get(\"function_call\"):\n",
    "            formatted_messages.append(f\"assistant: {message['content']}\\n\")\n",
    "        elif message[\"role\"] == \"function\":\n",
    "            formatted_messages.append(f\"function ({message['name']}): {message['content']}\\n\")\n",
    "    for formatted_message in formatted_messages:\n",
    "        print(\n",
    "            colored(\n",
    "                formatted_message,\n",
    "                role_to_color[messages[formatted_messages.index(formatted_message)][\"role\"]],\n",
    "            )\n",
    "        )"
   ]
  },
  {
   "cell_type": "code",
   "execution_count": null,
   "id": "77547306",
   "metadata": {},
   "outputs": [],
   "source": []
  },
  {
   "cell_type": "markdown",
   "id": "eb44a2ab",
   "metadata": {},
   "source": [
    "# Senzing API"
   ]
  },
  {
   "cell_type": "code",
   "execution_count": 10,
   "id": "ccbf516b",
   "metadata": {},
   "outputs": [],
   "source": [
    "api = SenzingAPI()"
   ]
  },
  {
   "cell_type": "code",
   "execution_count": 11,
   "id": "2168c1b2",
   "metadata": {},
   "outputs": [],
   "source": [
    "def function_call(msg):\n",
    "    assert 'assistant' == msg['role'] and msg['function_call'] is not None, \\\n",
    "        f'Expected assistant message with function call, but received: {msg}'\n",
    "    \n",
    "    func_name = msg['function_call']['name']\n",
    "    func_args = json.loads(msg['function_call']['arguments'])\n",
    "    func_resp = getattr(api, func_name)(**func_args)\n",
    "    \n",
    "    func_msg = dict(\n",
    "        role = 'function',\n",
    "        name = func_name,\n",
    "        content = json.dumps(func_resp),\n",
    "    )\n",
    "    \n",
    "    return func_msg"
   ]
  },
  {
   "cell_type": "code",
   "execution_count": null,
   "id": "b9398fa4",
   "metadata": {},
   "outputs": [],
   "source": []
  },
  {
   "cell_type": "markdown",
   "id": "34072f89",
   "metadata": {},
   "source": [
    "# Test"
   ]
  },
  {
   "cell_type": "code",
   "execution_count": 12,
   "id": "28e7702f",
   "metadata": {},
   "outputs": [],
   "source": [
    "def chat(messages):\n",
    "    chat_response = chat_completion_request(messages)\n",
    "\n",
    "    try:\n",
    "        # Filter: Remove Function Call Messages\n",
    "        messages = [msg for msg in messages\n",
    "                    if  msg['role'] in {'system', 'user', 'assistant'}\n",
    "                    and msg['content']\n",
    "                   ]\n",
    "        \n",
    "        assistant_message = chat_response.json()[\"choices\"][0][\"message\"]\n",
    "        messages.append(assistant_message)\n",
    "\n",
    "        pretty_print_conversation(messages)\n",
    "    except Exception:\n",
    "        print(colored('Unexpected Response:', 'red'))\n",
    "        pprint(chat_response.json())\n",
    "    \n",
    "    return messages"
   ]
  },
  {
   "cell_type": "code",
   "execution_count": null,
   "id": "1f8932c3",
   "metadata": {},
   "outputs": [],
   "source": []
  },
  {
   "cell_type": "code",
   "execution_count": 13,
   "id": "07271ee1",
   "metadata": {},
   "outputs": [
    {
     "name": "stdout",
     "output_type": "stream",
     "text": [
      "\u001b[32muser: Show me examples of matches\n",
      "\u001b[0m\n",
      "\u001b[34massistant: {'name': 'entity_report', 'arguments': '{\\n  \"export_flags\": \"MATCHED\"\\n}'}\n",
      "\u001b[0m\n"
     ]
    }
   ],
   "source": [
    "messages = [dict(role='user', content='Show me examples of matches')]\n",
    "messages = chat(messages)"
   ]
  },
  {
   "cell_type": "code",
   "execution_count": 14,
   "id": "c0e0e951",
   "metadata": {},
   "outputs": [
    {
     "name": "stdout",
     "output_type": "stream",
     "text": [
      "\u001b[32muser: Show me examples of matches\n",
      "\u001b[0m\n",
      "\u001b[34massistant: Here are some examples of matched entities:\n",
      "\n",
      "1. **Marie Kusha** (Entity ID: 1) - matched with records from the \"CUSTOMERS\" data source.\n",
      "   - Possibly related to Eddie Knight (Entity ID: 32), Mark Kusha (Entity ID: 41), and Marsha Kusha (Entity ID: 42).\n",
      "\n",
      "2. **Robert Smith** (Entity ID: 2) - matched with records from the \"CUSTOMERS\" data source.\n",
      "   - Possibly the same as Robert E Smith Sr (Entity ID: 38) and another Robert Smith (Entity ID: 200001).\n",
      "   - Possibly related to Patricia Smith (Entity ID: 200025).\n",
      "\n",
      "3. **Muhammed Antoun** (Entity ID: 3) - matched with records from the \"CUSTOMERS\" data source.\n",
      "\n",
      "4. **Eddie Knight** (Entity ID: 32) - matched with records from the \"CUSTOMERS\" and \"WATCHLIST\" data sources.\n",
      "   - Possibly related to Marie Kusha (Entity ID: 1), Mark Kusha (Entity ID: 41), and Marsha Kusha (Entity ID: 42).\n",
      "\n",
      "5. **Louis Garsky** (Entity ID: 33) - matched with records from the \"CUSTOMERS\" data source.\n",
      "\n",
      "Please note that \"possibly related\" means that there might be a connection based on certain shared attributes, but it's not a confirmed match.\n",
      "\u001b[0m\n"
     ]
    }
   ],
   "source": [
    "function_message = function_call(messages[-1])\n",
    "messages.append(function_message)\n",
    "\n",
    "messages = chat(messages)"
   ]
  },
  {
   "cell_type": "code",
   "execution_count": null,
   "id": "12d993de",
   "metadata": {},
   "outputs": [],
   "source": []
  },
  {
   "cell_type": "code",
   "execution_count": 15,
   "id": "1a0560d4",
   "metadata": {},
   "outputs": [
    {
     "name": "stdout",
     "output_type": "stream",
     "text": [
      "\u001b[32muser: Show me examples of matches\n",
      "\u001b[0m\n",
      "\u001b[34massistant: Here are some examples of matched entities:\n",
      "\n",
      "1. **Marie Kusha** (Entity ID: 1) - matched with records from the \"CUSTOMERS\" data source.\n",
      "   - Possibly related to Eddie Knight (Entity ID: 32), Mark Kusha (Entity ID: 41), and Marsha Kusha (Entity ID: 42).\n",
      "\n",
      "2. **Robert Smith** (Entity ID: 2) - matched with records from the \"CUSTOMERS\" data source.\n",
      "   - Possibly the same as Robert E Smith Sr (Entity ID: 38) and another Robert Smith (Entity ID: 200001).\n",
      "   - Possibly related to Patricia Smith (Entity ID: 200025).\n",
      "\n",
      "3. **Muhammed Antoun** (Entity ID: 3) - matched with records from the \"CUSTOMERS\" data source.\n",
      "\n",
      "4. **Eddie Knight** (Entity ID: 32) - matched with records from the \"CUSTOMERS\" and \"WATCHLIST\" data sources.\n",
      "   - Possibly related to Marie Kusha (Entity ID: 1), Mark Kusha (Entity ID: 41), and Marsha Kusha (Entity ID: 42).\n",
      "\n",
      "5. **Louis Garsky** (Entity ID: 33) - matched with records from the \"CUSTOMERS\" data source.\n",
      "\n",
      "Please note that \"possibly related\" means that there might be a connection based on certain shared attributes, but it's not a confirmed match.\n",
      "\u001b[0m\n",
      "\u001b[32muser: Show me details on Marie Kusha\n",
      "\u001b[0m\n",
      "\u001b[34massistant: {'name': 'entity_details', 'arguments': '{\\n  \"entity_id\": 1\\n}'}\n",
      "\u001b[0m\n"
     ]
    }
   ],
   "source": [
    "messages.append(dict(role='user', content='Show me details on Marie Kusha'))\n",
    "messages = chat(messages)"
   ]
  },
  {
   "cell_type": "code",
   "execution_count": 16,
   "id": "55ebac36",
   "metadata": {},
   "outputs": [
    {
     "name": "stdout",
     "output_type": "stream",
     "text": [
      "\u001b[32muser: Show me examples of matches\n",
      "\u001b[0m\n",
      "\u001b[34massistant: Here are some examples of matched entities:\n",
      "\n",
      "1. **Marie Kusha** (Entity ID: 1) - matched with records from the \"CUSTOMERS\" data source.\n",
      "   - Possibly related to Eddie Knight (Entity ID: 32), Mark Kusha (Entity ID: 41), and Marsha Kusha (Entity ID: 42).\n",
      "\n",
      "2. **Robert Smith** (Entity ID: 2) - matched with records from the \"CUSTOMERS\" data source.\n",
      "   - Possibly the same as Robert E Smith Sr (Entity ID: 38) and another Robert Smith (Entity ID: 200001).\n",
      "   - Possibly related to Patricia Smith (Entity ID: 200025).\n",
      "\n",
      "3. **Muhammed Antoun** (Entity ID: 3) - matched with records from the \"CUSTOMERS\" data source.\n",
      "\n",
      "4. **Eddie Knight** (Entity ID: 32) - matched with records from the \"CUSTOMERS\" and \"WATCHLIST\" data sources.\n",
      "   - Possibly related to Marie Kusha (Entity ID: 1), Mark Kusha (Entity ID: 41), and Marsha Kusha (Entity ID: 42).\n",
      "\n",
      "5. **Louis Garsky** (Entity ID: 33) - matched with records from the \"CUSTOMERS\" data source.\n",
      "\n",
      "Please note that \"possibly related\" means that there might be a connection based on certain shared attributes, but it's not a confirmed match.\n",
      "\u001b[0m\n",
      "\u001b[32muser: Show me details on Marie Kusha\n",
      "\u001b[0m\n",
      "\u001b[34massistant: **Entity Name:** Marie Kusha (Entity ID: 1)\n",
      "**Data Source:** CUSTOMERS\n",
      "\n",
      "**Features:**\n",
      "- **Address:** 1304 Poppy Hills Dr Blacklick OH 43004 (Home)\n",
      "- **DOB:** 10/28/76\n",
      "- **Email:** Kusha123@hmail.com\n",
      "- **Name:** Marie Kusha (Primary)\n",
      "- **Phone:** 512-353-8633 (Home)\n",
      "- **Record Type:** Person\n",
      "- **SSN:** 293-90-9090\n",
      "\n",
      "**Related Records:**\n",
      "- Record ID: 1016\n",
      "- Record ID: 1017\n",
      "- Record ID: 1018\n",
      "- Record ID: 1015\n",
      "\n",
      "**Possible Related Entities:**\n",
      "- **Eddie Knight** (Entity ID: 32), Possible Relation Key: Address and Surname, Match Level Code: Possibly Related\n",
      "- **Mark Kusha** (Entity ID: 41), Possible Relation Key: Address and PName, Match Level Code: Possibly Related\n",
      "- **Marsha Kusha** (Entity ID: 42), Possible Relation Key: Address and Surname, Match Level Code: Possibly Related\n",
      "\n",
      "The match level code \"Possibly Related\" indicates that based on certain shared attributes, there might be a connection, but it's not a confirmed match.\n",
      "\u001b[0m\n"
     ]
    }
   ],
   "source": [
    "function_message = function_call(messages[-1])\n",
    "messages.append(function_message)\n",
    "\n",
    "messages = chat(messages)"
   ]
  },
  {
   "cell_type": "code",
   "execution_count": null,
   "id": "af2a355f",
   "metadata": {},
   "outputs": [],
   "source": []
  },
  {
   "cell_type": "code",
   "execution_count": 17,
   "id": "00a850ca",
   "metadata": {},
   "outputs": [
    {
     "name": "stdout",
     "output_type": "stream",
     "text": [
      "\u001b[32muser: Show me examples of matches\n",
      "\u001b[0m\n",
      "\u001b[34massistant: Here are some examples of matched entities:\n",
      "\n",
      "1. **Marie Kusha** (Entity ID: 1) - matched with records from the \"CUSTOMERS\" data source.\n",
      "   - Possibly related to Eddie Knight (Entity ID: 32), Mark Kusha (Entity ID: 41), and Marsha Kusha (Entity ID: 42).\n",
      "\n",
      "2. **Robert Smith** (Entity ID: 2) - matched with records from the \"CUSTOMERS\" data source.\n",
      "   - Possibly the same as Robert E Smith Sr (Entity ID: 38) and another Robert Smith (Entity ID: 200001).\n",
      "   - Possibly related to Patricia Smith (Entity ID: 200025).\n",
      "\n",
      "3. **Muhammed Antoun** (Entity ID: 3) - matched with records from the \"CUSTOMERS\" data source.\n",
      "\n",
      "4. **Eddie Knight** (Entity ID: 32) - matched with records from the \"CUSTOMERS\" and \"WATCHLIST\" data sources.\n",
      "   - Possibly related to Marie Kusha (Entity ID: 1), Mark Kusha (Entity ID: 41), and Marsha Kusha (Entity ID: 42).\n",
      "\n",
      "5. **Louis Garsky** (Entity ID: 33) - matched with records from the \"CUSTOMERS\" data source.\n",
      "\n",
      "Please note that \"possibly related\" means that there might be a connection based on certain shared attributes, but it's not a confirmed match.\n",
      "\u001b[0m\n",
      "\u001b[32muser: Show me details on Marie Kusha\n",
      "\u001b[0m\n",
      "\u001b[34massistant: **Entity Name:** Marie Kusha (Entity ID: 1)\n",
      "**Data Source:** CUSTOMERS\n",
      "\n",
      "**Features:**\n",
      "- **Address:** 1304 Poppy Hills Dr Blacklick OH 43004 (Home)\n",
      "- **DOB:** 10/28/76\n",
      "- **Email:** Kusha123@hmail.com\n",
      "- **Name:** Marie Kusha (Primary)\n",
      "- **Phone:** 512-353-8633 (Home)\n",
      "- **Record Type:** Person\n",
      "- **SSN:** 293-90-9090\n",
      "\n",
      "**Related Records:**\n",
      "- Record ID: 1016\n",
      "- Record ID: 1017\n",
      "- Record ID: 1018\n",
      "- Record ID: 1015\n",
      "\n",
      "**Possible Related Entities:**\n",
      "- **Eddie Knight** (Entity ID: 32), Possible Relation Key: Address and Surname, Match Level Code: Possibly Related\n",
      "- **Mark Kusha** (Entity ID: 41), Possible Relation Key: Address and PName, Match Level Code: Possibly Related\n",
      "- **Marsha Kusha** (Entity ID: 42), Possible Relation Key: Address and Surname, Match Level Code: Possibly Related\n",
      "\n",
      "The match level code \"Possibly Related\" indicates that based on certain shared attributes, there might be a connection, but it's not a confirmed match.\n",
      "\u001b[0m\n",
      "\u001b[32muser: How did this entity come together?\n",
      "\u001b[0m\n",
      "\u001b[34massistant: {'name': 'entity_how', 'arguments': '{\\n  \"entity_id\": 1\\n}'}\n",
      "\u001b[0m\n"
     ]
    }
   ],
   "source": [
    "messages.append(dict(role='user', content='How did this entity come together?'))\n",
    "messages = chat(messages)"
   ]
  },
  {
   "cell_type": "code",
   "execution_count": 18,
   "id": "a4d381e2",
   "metadata": {},
   "outputs": [
    {
     "name": "stdout",
     "output_type": "stream",
     "text": [
      "\u001b[32muser: Show me examples of matches\n",
      "\u001b[0m\n",
      "\u001b[34massistant: Here are some examples of matched entities:\n",
      "\n",
      "1. **Marie Kusha** (Entity ID: 1) - matched with records from the \"CUSTOMERS\" data source.\n",
      "   - Possibly related to Eddie Knight (Entity ID: 32), Mark Kusha (Entity ID: 41), and Marsha Kusha (Entity ID: 42).\n",
      "\n",
      "2. **Robert Smith** (Entity ID: 2) - matched with records from the \"CUSTOMERS\" data source.\n",
      "   - Possibly the same as Robert E Smith Sr (Entity ID: 38) and another Robert Smith (Entity ID: 200001).\n",
      "   - Possibly related to Patricia Smith (Entity ID: 200025).\n",
      "\n",
      "3. **Muhammed Antoun** (Entity ID: 3) - matched with records from the \"CUSTOMERS\" data source.\n",
      "\n",
      "4. **Eddie Knight** (Entity ID: 32) - matched with records from the \"CUSTOMERS\" and \"WATCHLIST\" data sources.\n",
      "   - Possibly related to Marie Kusha (Entity ID: 1), Mark Kusha (Entity ID: 41), and Marsha Kusha (Entity ID: 42).\n",
      "\n",
      "5. **Louis Garsky** (Entity ID: 33) - matched with records from the \"CUSTOMERS\" data source.\n",
      "\n",
      "Please note that \"possibly related\" means that there might be a connection based on certain shared attributes, but it's not a confirmed match.\n",
      "\u001b[0m\n",
      "\u001b[32muser: Show me details on Marie Kusha\n",
      "\u001b[0m\n",
      "\u001b[34massistant: **Entity Name:** Marie Kusha (Entity ID: 1)\n",
      "**Data Source:** CUSTOMERS\n",
      "\n",
      "**Features:**\n",
      "- **Address:** 1304 Poppy Hills Dr Blacklick OH 43004 (Home)\n",
      "- **DOB:** 10/28/76\n",
      "- **Email:** Kusha123@hmail.com\n",
      "- **Name:** Marie Kusha (Primary)\n",
      "- **Phone:** 512-353-8633 (Home)\n",
      "- **Record Type:** Person\n",
      "- **SSN:** 293-90-9090\n",
      "\n",
      "**Related Records:**\n",
      "- Record ID: 1016\n",
      "- Record ID: 1017\n",
      "- Record ID: 1018\n",
      "- Record ID: 1015\n",
      "\n",
      "**Possible Related Entities:**\n",
      "- **Eddie Knight** (Entity ID: 32), Possible Relation Key: Address and Surname, Match Level Code: Possibly Related\n",
      "- **Mark Kusha** (Entity ID: 41), Possible Relation Key: Address and PName, Match Level Code: Possibly Related\n",
      "- **Marsha Kusha** (Entity ID: 42), Possible Relation Key: Address and Surname, Match Level Code: Possibly Related\n",
      "\n",
      "The match level code \"Possibly Related\" indicates that based on certain shared attributes, there might be a connection, but it's not a confirmed match.\n",
      "\u001b[0m\n",
      "\u001b[32muser: How did this entity come together?\n",
      "\u001b[0m\n",
      "\u001b[34massistant: The entity Marie Kusha (Entity ID: 1) came together through the following steps:\n",
      "\n",
      "1. **Step 1:** A record with the name \"Marie Kusha\" from the \"CUSTOMERS\" data source (Record ID: 1016) was matched with another record named \"Mary Kusha\" in the same data source (Record ID: 1015). The match was made based on the close similarity in name, exact match in date of birth (DOB), and the same home address.\n",
      "\n",
      "2. **Step 2:** The matched entity from Step 1 was then matched with another record named \"Mary Kusha\" from the \"CUSTOMERS\" data source (Record ID: 1017) based on the exact match in name and Social Security Number (SSN).\n",
      "\n",
      "3. **Step 3:** The matched entity from Step 2 was then matched with another record named \"Marie Kusha\" from the \"CUSTOMERS\" data source (Record ID: 1018) based on the exact match in name, close similarity in DOB, and the same home phone number.\n",
      "\n",
      "These steps led to the resolution of the entity Marie Kusha, combining information from four different records (Record IDs: 1015, 1016, 1017, 1018) in the \"CUSTOMERS\" data source.\n",
      "\u001b[0m\n"
     ]
    }
   ],
   "source": [
    "function_message = function_call(messages[-1])\n",
    "messages.append(function_message)\n",
    "\n",
    "messages = chat(messages)"
   ]
  },
  {
   "cell_type": "code",
   "execution_count": null,
   "id": "1738ba6c",
   "metadata": {},
   "outputs": [],
   "source": []
  },
  {
   "cell_type": "code",
   "execution_count": 19,
   "id": "0b14c737",
   "metadata": {},
   "outputs": [
    {
     "name": "stdout",
     "output_type": "stream",
     "text": [
      "\u001b[32muser: Show me examples of matches\n",
      "\u001b[0m\n",
      "\u001b[34massistant: Here are some examples of matched entities:\n",
      "\n",
      "1. **Marie Kusha** (Entity ID: 1) - matched with records from the \"CUSTOMERS\" data source.\n",
      "   - Possibly related to Eddie Knight (Entity ID: 32), Mark Kusha (Entity ID: 41), and Marsha Kusha (Entity ID: 42).\n",
      "\n",
      "2. **Robert Smith** (Entity ID: 2) - matched with records from the \"CUSTOMERS\" data source.\n",
      "   - Possibly the same as Robert E Smith Sr (Entity ID: 38) and another Robert Smith (Entity ID: 200001).\n",
      "   - Possibly related to Patricia Smith (Entity ID: 200025).\n",
      "\n",
      "3. **Muhammed Antoun** (Entity ID: 3) - matched with records from the \"CUSTOMERS\" data source.\n",
      "\n",
      "4. **Eddie Knight** (Entity ID: 32) - matched with records from the \"CUSTOMERS\" and \"WATCHLIST\" data sources.\n",
      "   - Possibly related to Marie Kusha (Entity ID: 1), Mark Kusha (Entity ID: 41), and Marsha Kusha (Entity ID: 42).\n",
      "\n",
      "5. **Louis Garsky** (Entity ID: 33) - matched with records from the \"CUSTOMERS\" data source.\n",
      "\n",
      "Please note that \"possibly related\" means that there might be a connection based on certain shared attributes, but it's not a confirmed match.\n",
      "\u001b[0m\n",
      "\u001b[32muser: Show me details on Marie Kusha\n",
      "\u001b[0m\n",
      "\u001b[34massistant: **Entity Name:** Marie Kusha (Entity ID: 1)\n",
      "**Data Source:** CUSTOMERS\n",
      "\n",
      "**Features:**\n",
      "- **Address:** 1304 Poppy Hills Dr Blacklick OH 43004 (Home)\n",
      "- **DOB:** 10/28/76\n",
      "- **Email:** Kusha123@hmail.com\n",
      "- **Name:** Marie Kusha (Primary)\n",
      "- **Phone:** 512-353-8633 (Home)\n",
      "- **Record Type:** Person\n",
      "- **SSN:** 293-90-9090\n",
      "\n",
      "**Related Records:**\n",
      "- Record ID: 1016\n",
      "- Record ID: 1017\n",
      "- Record ID: 1018\n",
      "- Record ID: 1015\n",
      "\n",
      "**Possible Related Entities:**\n",
      "- **Eddie Knight** (Entity ID: 32), Possible Relation Key: Address and Surname, Match Level Code: Possibly Related\n",
      "- **Mark Kusha** (Entity ID: 41), Possible Relation Key: Address and PName, Match Level Code: Possibly Related\n",
      "- **Marsha Kusha** (Entity ID: 42), Possible Relation Key: Address and Surname, Match Level Code: Possibly Related\n",
      "\n",
      "The match level code \"Possibly Related\" indicates that based on certain shared attributes, there might be a connection, but it's not a confirmed match.\n",
      "\u001b[0m\n",
      "\u001b[32muser: How did this entity come together?\n",
      "\u001b[0m\n",
      "\u001b[34massistant: The entity Marie Kusha (Entity ID: 1) came together through the following steps:\n",
      "\n",
      "1. **Step 1:** A record with the name \"Marie Kusha\" from the \"CUSTOMERS\" data source (Record ID: 1016) was matched with another record named \"Mary Kusha\" in the same data source (Record ID: 1015). The match was made based on the close similarity in name, exact match in date of birth (DOB), and the same home address.\n",
      "\n",
      "2. **Step 2:** The matched entity from Step 1 was then matched with another record named \"Mary Kusha\" from the \"CUSTOMERS\" data source (Record ID: 1017) based on the exact match in name and Social Security Number (SSN).\n",
      "\n",
      "3. **Step 3:** The matched entity from Step 2 was then matched with another record named \"Marie Kusha\" from the \"CUSTOMERS\" data source (Record ID: 1018) based on the exact match in name, close similarity in DOB, and the same home phone number.\n",
      "\n",
      "These steps led to the resolution of the entity Marie Kusha, combining information from four different records (Record IDs: 1015, 1016, 1017, 1018) in the \"CUSTOMERS\" data source.\n",
      "\u001b[0m\n",
      "\u001b[32muser: Who else lives at her address?\n",
      "\u001b[0m\n",
      "\u001b[34massistant: {'name': 'entity_search', 'arguments': '{\\n  \"attrs\": {\\n    \"ADDR_FULL\": \"1304 Poppy Hills Dr Blacklick OH 43004\"\\n  }\\n}'}\n",
      "\u001b[0m\n"
     ]
    }
   ],
   "source": [
    "messages.append(dict(role='user', content='Who else lives at her address?'))\n",
    "messages = chat(messages)"
   ]
  },
  {
   "cell_type": "code",
   "execution_count": 20,
   "id": "ee42d3fd",
   "metadata": {},
   "outputs": [
    {
     "name": "stdout",
     "output_type": "stream",
     "text": [
      "\u001b[32muser: Show me examples of matches\n",
      "\u001b[0m\n",
      "\u001b[34massistant: Here are some examples of matched entities:\n",
      "\n",
      "1. **Marie Kusha** (Entity ID: 1) - matched with records from the \"CUSTOMERS\" data source.\n",
      "   - Possibly related to Eddie Knight (Entity ID: 32), Mark Kusha (Entity ID: 41), and Marsha Kusha (Entity ID: 42).\n",
      "\n",
      "2. **Robert Smith** (Entity ID: 2) - matched with records from the \"CUSTOMERS\" data source.\n",
      "   - Possibly the same as Robert E Smith Sr (Entity ID: 38) and another Robert Smith (Entity ID: 200001).\n",
      "   - Possibly related to Patricia Smith (Entity ID: 200025).\n",
      "\n",
      "3. **Muhammed Antoun** (Entity ID: 3) - matched with records from the \"CUSTOMERS\" data source.\n",
      "\n",
      "4. **Eddie Knight** (Entity ID: 32) - matched with records from the \"CUSTOMERS\" and \"WATCHLIST\" data sources.\n",
      "   - Possibly related to Marie Kusha (Entity ID: 1), Mark Kusha (Entity ID: 41), and Marsha Kusha (Entity ID: 42).\n",
      "\n",
      "5. **Louis Garsky** (Entity ID: 33) - matched with records from the \"CUSTOMERS\" data source.\n",
      "\n",
      "Please note that \"possibly related\" means that there might be a connection based on certain shared attributes, but it's not a confirmed match.\n",
      "\u001b[0m\n",
      "\u001b[32muser: Show me details on Marie Kusha\n",
      "\u001b[0m\n",
      "\u001b[34massistant: **Entity Name:** Marie Kusha (Entity ID: 1)\n",
      "**Data Source:** CUSTOMERS\n",
      "\n",
      "**Features:**\n",
      "- **Address:** 1304 Poppy Hills Dr Blacklick OH 43004 (Home)\n",
      "- **DOB:** 10/28/76\n",
      "- **Email:** Kusha123@hmail.com\n",
      "- **Name:** Marie Kusha (Primary)\n",
      "- **Phone:** 512-353-8633 (Home)\n",
      "- **Record Type:** Person\n",
      "- **SSN:** 293-90-9090\n",
      "\n",
      "**Related Records:**\n",
      "- Record ID: 1016\n",
      "- Record ID: 1017\n",
      "- Record ID: 1018\n",
      "- Record ID: 1015\n",
      "\n",
      "**Possible Related Entities:**\n",
      "- **Eddie Knight** (Entity ID: 32), Possible Relation Key: Address and Surname, Match Level Code: Possibly Related\n",
      "- **Mark Kusha** (Entity ID: 41), Possible Relation Key: Address and PName, Match Level Code: Possibly Related\n",
      "- **Marsha Kusha** (Entity ID: 42), Possible Relation Key: Address and Surname, Match Level Code: Possibly Related\n",
      "\n",
      "The match level code \"Possibly Related\" indicates that based on certain shared attributes, there might be a connection, but it's not a confirmed match.\n",
      "\u001b[0m\n",
      "\u001b[32muser: How did this entity come together?\n",
      "\u001b[0m\n",
      "\u001b[34massistant: The entity Marie Kusha (Entity ID: 1) came together through the following steps:\n",
      "\n",
      "1. **Step 1:** A record with the name \"Marie Kusha\" from the \"CUSTOMERS\" data source (Record ID: 1016) was matched with another record named \"Mary Kusha\" in the same data source (Record ID: 1015). The match was made based on the close similarity in name, exact match in date of birth (DOB), and the same home address.\n",
      "\n",
      "2. **Step 2:** The matched entity from Step 1 was then matched with another record named \"Mary Kusha\" from the \"CUSTOMERS\" data source (Record ID: 1017) based on the exact match in name and Social Security Number (SSN).\n",
      "\n",
      "3. **Step 3:** The matched entity from Step 2 was then matched with another record named \"Marie Kusha\" from the \"CUSTOMERS\" data source (Record ID: 1018) based on the exact match in name, close similarity in DOB, and the same home phone number.\n",
      "\n",
      "These steps led to the resolution of the entity Marie Kusha, combining information from four different records (Record IDs: 1015, 1016, 1017, 1018) in the \"CUSTOMERS\" data source.\n",
      "\u001b[0m\n",
      "\u001b[32muser: Who else lives at her address?\n",
      "\u001b[0m\n",
      "\u001b[34massistant: The following people also live at the address \"1304 Poppy Hills Dr Blacklick OH 43004\":\n",
      "\n",
      "1. **Eddie Knight** (Entity ID: 32) - He also has another address in San Francisco, CA.\n",
      "2. **Mark Kusha** (Entity ID: 41) - His date of birth is 9/28/97.\n",
      "3. **Marsha Kusha** (Entity ID: 42) - Her date of birth is also 9/28/97.\n",
      "\n",
      "These entities are potentially related to Marie Kusha based on shared address and other features.\n",
      "\u001b[0m\n"
     ]
    }
   ],
   "source": [
    "function_message = function_call(messages[-1])\n",
    "messages.append(function_message)\n",
    "\n",
    "messages = chat(messages)"
   ]
  },
  {
   "cell_type": "code",
   "execution_count": null,
   "id": "f5b3e6d2",
   "metadata": {},
   "outputs": [],
   "source": []
  },
  {
   "cell_type": "code",
   "execution_count": null,
   "id": "322b570c",
   "metadata": {},
   "outputs": [],
   "source": []
  },
  {
   "cell_type": "code",
   "execution_count": null,
   "id": "822b0227",
   "metadata": {},
   "outputs": [],
   "source": []
  },
  {
   "cell_type": "code",
   "execution_count": null,
   "id": "8d39ad61",
   "metadata": {},
   "outputs": [],
   "source": []
  }
 ],
 "metadata": {
  "kernelspec": {
   "display_name": "Python 3 (ipykernel)",
   "language": "python",
   "name": "python3"
  },
  "language_info": {
   "codemirror_mode": {
    "name": "ipython",
    "version": 3
   },
   "file_extension": ".py",
   "mimetype": "text/x-python",
   "name": "python",
   "nbconvert_exporter": "python",
   "pygments_lexer": "ipython3",
   "version": "3.10.10"
  }
 },
 "nbformat": 4,
 "nbformat_minor": 5
}
